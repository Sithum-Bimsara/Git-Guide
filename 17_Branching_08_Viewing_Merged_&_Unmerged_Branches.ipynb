{
 "cells": [
  {
   "cell_type": "markdown",
   "id": "acbf9732-6484-49a9-9e83-cd55ecdaa28c",
   "metadata": {},
   "source": [
    "# 📌 Managing Merged and Unmerged Branches in Git\n",
    "\n",
    "## 🛠️ Merging and Deleting Branches\n",
    "\n",
    "When we finish working on a branch, the best practice is to merge it into the `master` (or `main`) branch and then delete it. However, sometimes we forget to delete a merged branch. Over time, these branches pile up, leading to confusion about whether they are already merged or not. \n",
    "\n",
    "Let's go through how to check for merged and unmerged branches. \n",
    "\n",
    "---\n",
    "\n",
    "## 📋 Viewing Merged Branches\n",
    "\n",
    "Currently, we are on the `master` branch. To see the list of branches that have been merged into the current branch (`master`), use the following command:\n",
    "\n",
    "```sh\n",
    "git branch --merged\n",
    "```\n",
    "\n",
    "This will display all the branches that have already been merged into `master`. Since these branches have been merged, it's safe to delete them if you're done working on them.\n",
    "\n",
    "🚀 **Best practice:** Delete merged branches to keep your repository clean and organized!\n",
    "\n",
    "To delete a merged branch, use:\n",
    "\n",
    "```sh\n",
    "git branch -d bugfix/login\n",
    "```\n",
    "\n",
    "🔹 This will remove the `bugfix/login` branch since it's already merged.\n",
    "\n",
    "---\n",
    "\n",
    "## ❌ Viewing Unmerged Branches\n",
    "\n",
    "To check for branches that have **not** been merged into the current branch, use:\n",
    "\n",
    "```sh\n",
    "git branch --no-merged\n",
    "```\n",
    "\n",
    "If no output appears, it means that all branches have already been merged. If there are branches listed, it means they are still unmerged and may contain important work.\n",
    "\n",
    "---\n",
    "\n",
    "## 🎯 Summary\n",
    "\n",
    "✅ **Use `git branch --merged`** to list merged branches.\n",
    "\n",
    "✅ **Use `git branch --no-merged`** to list unmerged branches.\n",
    "\n",
    "✅ **Delete merged branches using `git branch -d <branch-name>`** to keep your repo clean.\n",
    "\n",
    "By following these steps, you can efficiently manage branches in Git and avoid unnecessary clutter in your repository. 🚀✨\n"
   ]
  }
 ],
 "metadata": {
  "kernelspec": {
   "display_name": "Python [conda env:base] *",
   "language": "python",
   "name": "conda-base-py"
  },
  "language_info": {
   "codemirror_mode": {
    "name": "ipython",
    "version": 3
   },
   "file_extension": ".py",
   "mimetype": "text/x-python",
   "name": "python",
   "nbconvert_exporter": "python",
   "pygments_lexer": "ipython3",
   "version": "3.12.7"
  }
 },
 "nbformat": 4,
 "nbformat_minor": 5
}
